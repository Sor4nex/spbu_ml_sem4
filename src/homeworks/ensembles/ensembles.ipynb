{
 "cells": [
  {
   "cell_type": "markdown",
   "metadata": {
    "id": "1PjQglGj4q54"
   },
   "source": [
    "# Случайные леса\n",
    "\n",
    "В этом задании вам предстоит реализовать ансамбль деревьев решений, известный как случайный лес, применить его к публичным данным пользователей социальной сети Вконтакте, и сравнить его эффективность с бустингом, предоставляемым библиотекой `CatBoost`.\n",
    "\n",
    "В результате мы сможем определить, какие подписки пользователей больше всего влияют на определение возраста и пола человека."
   ]
  },
  {
   "cell_type": "code",
   "execution_count": 1,
   "metadata": {
    "id": "LH5PiGz04q5-"
   },
   "outputs": [],
   "source": [
    "from math import log2, sqrt\n",
    "\n",
    "import inspect\n",
    "import random\n",
    "from collections import Counter\n",
    "from dataclasses import dataclass\n",
    "from itertools import product\n",
    "from typing import Callable, List, Tuple, Union\n",
    "\n",
    "import numpy as np\n",
    "import numpy.typing as npt\n",
    "import pandas\n",
    "from catboost import CatBoostClassifier\n",
    "from sklearn.model_selection import train_test_split\n",
    "from tqdm.notebook import tqdm"
   ]
  },
  {
   "cell_type": "code",
   "execution_count": 2,
   "metadata": {
    "id": "jnS-06r2t4el",
    "pycharm": {
     "name": "#%%\n"
    }
   },
   "outputs": [],
   "source": [
    "def set_seed(seed=42):\n",
    "    np.random.seed(seed)\n",
    "    random.seed(seed)\n",
    "\n",
    "\n",
    "# Этой функцией будут помечены все места, которые необходимо дозаполнить\n",
    "# Это могут быть как целые функции, так и отдельные части внутри них\n",
    "# Всегда можно воспользоваться интроспекцией и найти места использования этой функции :)\n",
    "def todo():\n",
    "    stack = inspect.stack()\n",
    "    caller_frame = stack[1]\n",
    "    function_name = caller_frame.function\n",
    "    line_number = caller_frame.lineno\n",
    "    raise NotImplementedError(f\"TODO at {function_name}, line {line_number}\")\n",
    "\n",
    "\n",
    "SEED = 0xC0FFEE\n",
    "set_seed(SEED)"
   ]
  },
  {
   "cell_type": "code",
   "execution_count": 3,
   "metadata": {
    "id": "V7HwiyP3t4en"
   },
   "outputs": [],
   "source": [
    "def mode(data):\n",
    "    counts = Counter(data)\n",
    "    return counts.most_common(n=1)[0][0]"
   ]
  },
  {
   "cell_type": "markdown",
   "metadata": {
    "id": "tfxycK0Q4q5_"
   },
   "source": [
    "### Задание 1 (2 балла)\n",
    "Random Forest состоит из деревьев решений. Каждое такое дерево строится на одной из выборок, полученных при помощи bootstrap. Элементы, которые не вошли в новую обучающую выборку, образуют **out-of-bag** выборку. Кроме того, в каждом узле дерева мы случайным образом выбираем набор из `max_features` и ищем признак для предиката разбиения только в этом наборе.\n",
    "\n",
    "Сегодня мы будем работать только с бинарными признаками, поэтому нет необходимости выбирать значение признака для разбиения.\n",
    "\n",
    "#### Методы\n",
    "`predict(X)` - возвращает предсказанные метки для элементов выборки `X`\n",
    "\n",
    "#### Параметры конструктора\n",
    "`X, y` - обучающая выборка и соответствующие ей метки классов. Из нее нужно получить выборку для построения дерева при помощи bootstrap. Out-of-bag выборку нужно запомнить, она понадобится потом.\n",
    "\n",
    "`criterion=\"gini\"` - задает критерий, который будет использоваться при построении дерева. Возможные значения: `\"gini\"`, `\"entropy\"`.\n",
    "\n",
    "`max_depth=None` - ограничение глубины дерева. Если `None` - глубина не ограничена\n",
    "\n",
    "`min_samples_leaf=1` - минимальное количество элементов в каждом листе дерева.\n",
    "\n",
    "`max_features=\"auto\"` - количество признаков, которые могут использоваться в узле. Если `\"auto\"` - равно `sqrt(X.shape[1])`"
   ]
  },
  {
   "cell_type": "code",
   "execution_count": 4,
   "metadata": {
    "id": "bQUJHTjS4q5-"
   },
   "outputs": [],
   "source": [
    "# Для начала реализуем сами критерии\n",
    "\n",
    "def count_probs(x: npt.ArrayLike) -> list[float]:\n",
    "    classes_count = Counter(x)\n",
    "    return [countt / len(x) for countt in classes_count.values()]\n",
    "\n",
    "\n",
    "def gini(x: npt.ArrayLike) -> float:\n",
    "    \"\"\"\n",
    "    Calculate the Gini impurity of a list or array of class labels.\n",
    "\n",
    "    Args:\n",
    "        x (ArrayLike): Array-like object containing class labels.\n",
    "\n",
    "    Returns:\n",
    "        float: Gini impurity value.\n",
    "    \"\"\"\n",
    "    return sum([prob * (1 - prob) for prob in count_probs(x)])\n",
    "\n",
    "\n",
    "def entropy(x: npt.ArrayLike) -> float:\n",
    "    \"\"\"\n",
    "    Calculate the entropy of a list or array of class labels.\n",
    "\n",
    "    Args:\n",
    "        x (ArrayLike): Array-like object containing class labels.\n",
    "\n",
    "    Returns:\n",
    "        float: Entropy value.\n",
    "    \"\"\"\n",
    "    return sum([prob * log2(prob) for prob in count_probs(x)])\n",
    "\n",
    "\n",
    "def gain(left_y: npt.ArrayLike, right_y: npt.ArrayLike, criterion: Callable[[npt.ArrayLike], float]) -> float:\n",
    "    \"\"\"\n",
    "    Calculate the information gain of a split using a specified criterion.\n",
    "\n",
    "    Args:\n",
    "        left_y (ArrayLike): Class labels for the left split.\n",
    "        right_y (ArrayLike): Class labels for the right split.\n",
    "        criterion (Callable): Function to calculate impurity (e.g., gini or entropy).\n",
    "\n",
    "    Returns:\n",
    "        float: Information gain from the split.\n",
    "    \"\"\"\n",
    "    criterion_before_split = criterion(np.concatenate((left_y, right_y)))\n",
    "    criterion_left = criterion(left_y)\n",
    "    criterion_right = criterion(right_y)\n",
    "    len_whole = len(left_y) + len(right_y)\n",
    "    return criterion_before_split - (len(left_y) / len_whole) * criterion_left - (len(right_y) / len_whole) * criterion_right"
   ]
  },
  {
   "cell_type": "code",
   "execution_count": 5,
   "metadata": {
    "id": "0F0IE7Yit4eq",
    "pycharm": {
     "name": "#%%\n"
    }
   },
   "outputs": [],
   "source": [
    "@dataclass\n",
    "class DecisionTreeLeaf:\n",
    "    classes: np.ndarray\n",
    "\n",
    "    def __post_init__(self):\n",
    "        self.max_class = mode(self.classes)\n",
    "\n",
    "\n",
    "@dataclass\n",
    "class DecisionTreeInternalNode:\n",
    "    split_dim: int\n",
    "    left: Union[\"DecisionTreeInternalNode\", DecisionTreeLeaf]\n",
    "    right: Union[\"DecisionTreeInternalNode\", DecisionTreeLeaf]\n",
    "\n",
    "\n",
    "DecisionTreeNode = Union[DecisionTreeInternalNode, DecisionTreeLeaf]"
   ]
  },
  {
   "cell_type": "code",
   "execution_count": 6,
   "metadata": {
    "id": "8smLW2V_4q5_"
   },
   "outputs": [],
   "source": [
    "class DecisionTree:\n",
    "    def __init__(self, X, y, criterion=\"gini\", max_depth=None, min_samples_leaf=1, max_features=\"auto\"):\n",
    "        boot_X, boot_y, oob_X, oob_y = self._generate_bootstrap_and_oob(X, y)\n",
    "        self._boot_X = boot_X\n",
    "        self._boot_y = boot_y\n",
    "        self._out_of_bag_X = oob_X\n",
    "        self._out_of_bag_y = oob_y\n",
    "        self._criterion = gini if criterion == \"gini\" else entropy\n",
    "        self._max_depth = max_depth\n",
    "        self._min_samples_leaf = min_samples_leaf\n",
    "        self._max_features = max_features if max_features != \"auto\" else int(sqrt(X.shape[1]))\n",
    "        self._root = self._build_node(self._boot_X, self._boot_y, 0)\n",
    "\n",
    "    @property\n",
    "    def out_of_bag(self) -> Tuple[np.ndarray, np.ndarray]:\n",
    "        return self._out_of_bag_X, self._out_of_bag_y\n",
    "\n",
    "    def _generate_bootstrap_and_oob(self, X, y) -> tuple:\n",
    "        bootstrap_indices = np.random.choice(X.shape[0], size=X.shape[0], replace=True)\n",
    "        bootstrap_X = X[bootstrap_indices]\n",
    "        bootstrap_y = y[bootstrap_indices]\n",
    "        oob_indices = [i for i in range(X.shape[0]) if i not in np.unique(bootstrap_indices)]\n",
    "        oob_X = X[oob_indices]\n",
    "        oob_y = y[oob_indices]\n",
    "        return bootstrap_X, bootstrap_y, oob_X, oob_y\n",
    "\n",
    "    def _build_node(self, points: np.ndarray, classes: np.ndarray, depth: int) -> DecisionTreeNode:\n",
    "        if (self._max_depth is not None and depth == self._max_depth) or classes.shape[0] < (\n",
    "                2 * self._min_samples_leaf) or len(np.unique(classes)) == 1:\n",
    "            return DecisionTreeLeaf(classes)\n",
    "        max_gain = 0\n",
    "        best_split_axis = best_left_ind = best_right_ind = None\n",
    "        for feature in np.random.choice(points.shape[1], size=self._max_features):\n",
    "            curr_left_ind = points[:, feature] == 0\n",
    "            curr_right_ind = ~curr_left_ind\n",
    "            if sum(curr_left_ind) < self._min_samples_leaf or sum(curr_right_ind) < self._min_samples_leaf:\n",
    "                continue\n",
    "            curr_gain = gain(classes[curr_left_ind], classes[curr_right_ind], self._criterion)\n",
    "            if curr_gain > max_gain:\n",
    "                max_gain = curr_gain\n",
    "                best_split_axis = feature\n",
    "                best_left_ind = curr_left_ind\n",
    "                best_right_ind = curr_right_ind\n",
    "        if best_split_axis is None:\n",
    "            return DecisionTreeLeaf(classes)\n",
    "        left_node = self._build_node(points[best_left_ind], classes[best_left_ind], depth + 1)\n",
    "        right_node = self._build_node(points[best_right_ind], classes[best_right_ind], depth + 1)\n",
    "        return DecisionTreeInternalNode(best_split_axis, left_node, right_node)\n",
    "\n",
    "    def _predict(self, point: np.ndarray, node: DecisionTreeNode) -> int:\n",
    "        if isinstance(node, DecisionTreeLeaf):\n",
    "            return node.max_class\n",
    "\n",
    "        if point[node.split_dim] == 0:\n",
    "            return self._predict(point, node.left)\n",
    "        return self._predict(point, node.right)\n",
    "\n",
    "    def predict(self, points: np.ndarray) -> np.ndarray:\n",
    "        return np.array([self._predict(point, self._root) for point in points])"
   ]
  },
  {
   "cell_type": "markdown",
   "metadata": {
    "id": "9oijgwLt4q6A"
   },
   "source": [
    "### Задание 2 (2 балла)\n",
    "Теперь реализуем сам Random Forest. Идея очень простая: строим `n` деревьев, а затем берем модальное предсказание.\n",
    "\n",
    "#### Параметры конструктора\n",
    "`n_estimators` - количество используемых для предсказания деревьев.\n",
    "\n",
    "Остальное - параметры деревьев.\n",
    "\n",
    "#### Методы\n",
    "`fit(X, y)` - строит `n_estimators` деревьев по выборке `X`.\n",
    "\n",
    "`predict(X)` - для каждого элемента выборки `X` возвращает самый частый класс, который предсказывают для него деревья."
   ]
  },
  {
   "cell_type": "code",
   "execution_count": 7,
   "metadata": {
    "id": "APIy88YW4q6A"
   },
   "outputs": [],
   "source": [
    "class RandomForestClassifier:\n",
    "\n",
    "    _n_features: int = None\n",
    "\n",
    "    def __init__(self, criterion=\"gini\", max_depth=None, min_samples_leaf=1, max_features=\"auto\", n_estimators=10):\n",
    "        self._criterion = criterion\n",
    "        self._max_depth = max_depth\n",
    "        self._min_samples_leaf = min_samples_leaf\n",
    "        self._max_features = max_features\n",
    "        self._n_estimators = n_estimators\n",
    "        self._estimators = []\n",
    "        self._n_features = None\n",
    "\n",
    "    @property\n",
    "    def estimators(self) -> List[DecisionTree]:\n",
    "        return self._estimators\n",
    "\n",
    "    @property\n",
    "    def n_features(self) -> int:\n",
    "        if self._n_features is None:\n",
    "            raise RuntimeError(\"Fit random forest before accessing to number of features properties\")\n",
    "        return self._n_features\n",
    "\n",
    "    def fit(self, X, y):\n",
    "        self._n_features = X.shape[1]\n",
    "        self._estimators = []\n",
    "        for _ in range(self._n_estimators):\n",
    "            decision_tree = DecisionTree(\n",
    "                X, y,\n",
    "                criterion=self._criterion,\n",
    "                max_depth=self._max_depth,\n",
    "                min_samples_leaf=self._min_samples_leaf,\n",
    "                max_features=self._max_features\n",
    "            )\n",
    "            self._estimators.append(decision_tree)\n",
    "\n",
    "    def predict(self, X):\n",
    "        predictions = np.array([tree.predict(X) for tree in self._estimators])\n",
    "        return np.array([mode(predictions[:, i]) for i in range(X.shape[0])])"
   ]
  },
  {
   "cell_type": "markdown",
   "metadata": {
    "id": "i80pffMn4q6A"
   },
   "source": [
    "### Задание 3 (2 балла)\n",
    "Часто хочется понимать, насколько большую роль играет тот или иной признак для предсказания класса объекта. Есть различные способы посчитать его важность. Один из простых способов сделать это для Random Forest - посчитать out-of-bag ошибку предсказания `err_oob`, а затем перемешать значения признака `j` и посчитать ее (`err_oob_j`) еще раз. Оценкой важности признака `j` для одного дерева будет разность `err_oob_j - err_oob`, важность для всего леса считается как среднее значение важности по деревьям.\n",
    "\n",
    "Реализуйте функцию `feature_importance`, которая принимает на вход Random Forest и возвращает массив, в котором содержится важность для каждого признака."
   ]
  },
  {
   "cell_type": "code",
   "execution_count": 8,
   "metadata": {
    "id": "rEmVG1Fl4q6B"
   },
   "outputs": [],
   "source": [
    "def accuracy_score(y_true: np.ndarray, y_pred: np.ndarray) -> float:\n",
    "    y_true = y_true.reshape(-1)\n",
    "    y_pred = y_pred.reshape(-1)\n",
    "    return np.mean(y_true == y_pred)\n",
    "\n",
    "\n",
    "def feature_importance(rfc):\n",
    "    importances = np.zeros(rfc.n_features)\n",
    "    \n",
    "    for tree in rfc.estimators:\n",
    "        oob_X, oob_y = tree.out_of_bag\n",
    "        if len(oob_X) == 0:\n",
    "            continue\n",
    "            \n",
    "        y_pred = tree.predict(oob_X)\n",
    "        original_accuracy = accuracy_score(oob_y, y_pred)\n",
    "        \n",
    "        for feature in range(rfc.n_features):\n",
    "            shuffled_X = oob_X.copy()\n",
    "            np.random.shuffle(shuffled_X[:, feature])\n",
    "            \n",
    "            y_pred_shuffled = tree.predict(shuffled_X)\n",
    "            shuffled_accuracy = accuracy_score(oob_y, y_pred_shuffled)\n",
    "            \n",
    "            importances[feature] += (shuffled_accuracy - original_accuracy)\n",
    "    importances /= len(rfc.estimators)\n",
    "    return importances\n",
    "\n",
    "\n",
    "def most_important_features(importance, names, k=20):\n",
    "    # Выводит названия k самых важных признаков\n",
    "    indices = np.argsort(importance)[::-1][:k]\n",
    "    return np.array(names)[indices]"
   ]
  },
  {
   "cell_type": "markdown",
   "metadata": {
    "id": "JooN_YKm4q6B"
   },
   "source": [
    "Наконец, пришло время протестировать наше дерево на простом синтетическом наборе данных. В результате точность должна быть примерно равна `1.0`, наибольшее значение важности должно быть у признака с индексом `4`, признаки с индексами `2` и `3`  должны быть одинаково важны, а остальные признаки - не важны совсем."
   ]
  },
  {
   "cell_type": "code",
   "execution_count": 9,
   "metadata": {
    "id": "8gqYMp994q6B"
   },
   "outputs": [
    {
     "name": "stdout",
     "output_type": "stream",
     "text": [
      "Accuracy: 1.0\n",
      "Importance: [-1.70452947e-03  2.44826556e-04 -1.54450440e-01 -1.43690023e-01\n",
      " -2.94225041e-01 -1.47239289e-03]\n"
     ]
    }
   ],
   "source": [
    "def synthetic_dataset(size):\n",
    "    X = [\n",
    "        (np.random.randint(0, 2), np.random.randint(0, 2), i % 6 == 3, i % 6 == 0, i % 3 == 2, np.random.randint(0, 2))\n",
    "        for i in range(size)\n",
    "    ]\n",
    "    y = [i % 3 for i in range(size)]\n",
    "    return np.array(X), np.array(y)\n",
    "\n",
    "\n",
    "X, y = synthetic_dataset(1000)\n",
    "rfc = RandomForestClassifier(n_estimators=100)\n",
    "rfc.fit(X, y)\n",
    "print(\"Accuracy:\", np.mean(rfc.predict(X) == y))\n",
    "print(\"Importance:\", feature_importance(rfc))"
   ]
  },
  {
   "cell_type": "markdown",
   "metadata": {
    "id": "vRtGOs164q6C"
   },
   "source": [
    "### Задание 4 (1 балл)\n",
    "Теперь поработаем с реальными данными.\n",
    "\n",
    "Выборка состоит из публичных анонимизированных данных пользователей социальной сети Вконтакте. Первые два столбца отражают возрастную группу (`zoomer`, `doomer` и `boomer`) и пол (`female`, `male`). Все остальные столбцы являются бинарными признаками, каждый из них определяет, подписан ли пользователь на определенную группу/публичную страницу или нет.\\\n",
    "\\\n",
    "Необходимо обучить два классификатора, один из которых определяет возрастную группу, а второй - пол.\\\n",
    "\\\n",
    "Эксперименты с множеством используемых признаков и подбор гиперпараметров приветствуются. Лес должен строиться за какое-то разумное время."
   ]
  },
  {
   "cell_type": "code",
   "execution_count": 10,
   "metadata": {
    "id": "HruobK-q4q6C"
   },
   "outputs": [],
   "source": [
    "def read_dataset(path):\n",
    "    dataframe = pandas.read_csv(path, header=0)\n",
    "    dataset = dataframe.values.tolist()\n",
    "    random.shuffle(dataset)\n",
    "    y_age = [row[0] for row in dataset]\n",
    "    y_sex = [row[1] for row in dataset]\n",
    "    X = [row[2:] for row in dataset]\n",
    "\n",
    "    return np.array(X), np.array(y_age), np.array(y_sex), list(dataframe.columns)[2:]"
   ]
  },
  {
   "cell_type": "code",
   "execution_count": 11,
   "metadata": {
    "id": "K0QXWr3b4q6C"
   },
   "outputs": [],
   "source": [
    "X, y_age, y_sex, features = read_dataset(\"vk.csv\")\n",
    "X_train, X_test, y_age_train, y_age_test, y_sex_train, y_sex_test = train_test_split(X, y_age, y_sex, train_size=0.9)"
   ]
  },
  {
   "cell_type": "markdown",
   "metadata": {
    "id": "I0y8J97m4q6C"
   },
   "source": [
    "#### Возраст"
   ]
  },
  {
   "cell_type": "code",
   "execution_count": 12,
   "metadata": {
    "id": "MLJykJZH4q6C"
   },
   "outputs": [
    {
     "name": "stdout",
     "output_type": "stream",
     "text": [
      "Accuracy: 0.6923076923076923\n",
      "Most important features:\n",
      "1. vkgames\n",
      "2. ftp_memes\n",
      "3. gm.power\n",
      "4. vkucnie_recepti\n",
      "5. lhack\n",
      "6. fucking_humor\n",
      "7. molodost_bz\n",
      "8. combovine\n",
      "9. be.beauty\n",
      "10. kinohd\n",
      "11. team\n",
      "12. theastro\n",
      "13. morgenshtern666\n",
      "14. komment.broo\n",
      "15. authors\n",
      "16. be.women\n",
      "17. evil_incorparate\n",
      "18. modnailru\n",
      "19. lomai_loogiky\n",
      "20. pn6\n"
     ]
    }
   ],
   "source": [
    "rfc = RandomForestClassifier(n_estimators=10)\n",
    "\n",
    "rfc.fit(X_train, y_age_train)\n",
    "print(\"Accuracy:\", np.mean(rfc.predict(X_test) == y_age_test))\n",
    "print(\"Most important features:\")\n",
    "for i, name in enumerate(most_important_features(feature_importance(rfc), features, 20)):\n",
    "    print(str(i + 1) + \".\", name)"
   ]
  },
  {
   "cell_type": "markdown",
   "metadata": {
    "id": "cgNpaAKH4q6D"
   },
   "source": [
    "#### Пол"
   ]
  },
  {
   "cell_type": "code",
   "execution_count": 13,
   "metadata": {
    "id": "X-zne5-R4q6D"
   },
   "outputs": [
    {
     "name": "stdout",
     "output_type": "stream",
     "text": [
      "Accuracy: 0.8436317780580076\n",
      "Most important features:\n",
      "1. otbrosy_pokoleniya\n",
      "2. leprazo\n",
      "3. molodost_bz\n",
      "4. dfilm\n",
      "5. bog_memes\n",
      "6. lixie\n",
      "7. authors\n",
      "8. vkgames\n",
      "9. face\n",
      "10. i.kino\n",
      "11. v5inf\n",
      "12. exclusive_muzic\n",
      "13. tnt\n",
      "14. ne.poverish\n",
      "15. best_video_hd\n",
      "16. rem_shkola\n",
      "17. sci\n",
      "18. ohhluul\n",
      "19. bratishkinoff\n",
      "20. club128730587\n"
     ]
    }
   ],
   "source": [
    "rfc = RandomForestClassifier(n_estimators=10)\n",
    "rfc.fit(X_train, y_sex_train)\n",
    "print(\"Accuracy:\", np.mean(rfc.predict(X_test) == y_sex_test))\n",
    "print(\"Most important features:\")\n",
    "for i, name in enumerate(most_important_features(feature_importance(rfc), features, 20)):\n",
    "    print(str(i + 1) + \".\", name)"
   ]
  },
  {
   "cell_type": "markdown",
   "metadata": {
    "id": "pxeTQylQ4q6D"
   },
   "source": [
    "### CatBoost\n",
    "В качестве аьтернативы попробуем CatBoost.\n",
    "\n",
    "Устаниовить его можно просто с помощью `pip install catboost`. Туториалы можно найти, например, [здесь](https://catboost.ai/docs/concepts/python-usages-examples.html#multiclassification) и [здесь](https://github.com/catboost/tutorials/blob/master/python_tutorial.ipynb). Главное - не забудьте использовать `loss_function='MultiClass'`.\\\n",
    "\\\n",
    "Сначала протестируйте CatBoost на синтетических данных. Выведите точность и важность признаков."
   ]
  },
  {
   "cell_type": "code",
   "execution_count": 14,
   "metadata": {
    "id": "DOqVkEnd4q6D"
   },
   "outputs": [
    {
     "name": "stdout",
     "output_type": "stream",
     "text": [
      "Accuracy: 1.0\n",
      "Importance: [3.95725570e-03 1.36386250e-03 2.78467422e+01 2.78657214e+01\n",
      " 4.42806940e+01 1.52125956e-03]\n"
     ]
    }
   ],
   "source": [
    "X, y = synthetic_dataset(1000)\n",
    "\n",
    "cb_model = CatBoostClassifier(iterations=100, depth=6, learning_rate=0.1, loss_function='MultiClass', verbose=False)\n",
    "cb_model.fit(X, y)\n",
    "y_pred = cb_model.predict(X)\n",
    "\n",
    "print(\"Accuracy:\", accuracy_score(y_pred, y))\n",
    "print(\"Importance:\", cb_model.feature_importances_)"
   ]
  },
  {
   "cell_type": "markdown",
   "metadata": {
    "id": "tcLRsSNG4q6E"
   },
   "source": [
    "### Задание 5 (3 балла)\n",
    "Попробуем применить один из используемых на практике алгоритмов. В этом нам поможет CatBoost. Также, как и реализованный ними RandomForest, применим его для определения пола и возраста пользователей сети Вконтакте, выведите названия наиболее важных признаков так же, как в задании 3.\\\n",
    "\\\n",
    "Эксперименты с множеством используемых признаков и подбор гиперпараметров приветствуются."
   ]
  },
  {
   "cell_type": "code",
   "execution_count": 15,
   "metadata": {
    "id": "hJGrQcO-4q6E"
   },
   "outputs": [],
   "source": [
    "X, y_age, y_sex, features = read_dataset(\"vk.csv\")\n",
    "X_train, X_test, y_age_train, y_age_test, y_sex_train, y_sex_test = train_test_split(X, y_age, y_sex, train_size=0.9)\n",
    "X_train, X_eval, y_age_train, y_age_eval, y_sex_train, y_sex_eval = train_test_split(\n",
    "    X_train, y_age_train, y_sex_train, train_size=0.8\n",
    ")"
   ]
  },
  {
   "cell_type": "code",
   "execution_count": 16,
   "metadata": {
    "id": "xop9ms37t4e4",
    "pycharm": {
     "name": "#%%\n"
    }
   },
   "outputs": [],
   "source": [
    "max_depth = range(1, 10, 3)\n",
    "min_samples_leaf = range(1, 10, 3)\n",
    "learning_rate = np.linspace(0.001, 1.0, 5)\n",
    "\n",
    "\n",
    "def get_best_params(y_train, y_eval):\n",
    "    best_score, best_params = None, None\n",
    "    for lr, md, msl in tqdm(list(product(learning_rate, max_depth, min_samples_leaf))):\n",
    "        model_cat = CatBoostClassifier(\n",
    "            iterations=100,\n",
    "            depth=md,\n",
    "            learning_rate=lr,\n",
    "            min_data_in_leaf=msl,\n",
    "            loss_function=\"MultiClass\",\n",
    "            verbose=False,\n",
    "            random_seed=SEED\n",
    "        )\n",
    "        \n",
    "        model_cat.fit(X_train, y_train)\n",
    "        y_pred = model_cat.predict(X_eval)\n",
    "        curr_score = accuracy_score(y_eval, y_pred)\n",
    "        \n",
    "        if best_score is None or curr_score > best_score:\n",
    "            best_score = curr_score\n",
    "            best_params = {\n",
    "                'learning_rate': lr,\n",
    "                'depth': md,\n",
    "                'min_data_in_leaf': msl\n",
    "            }\n",
    "    return best_params, best_score"
   ]
  },
  {
   "cell_type": "markdown",
   "metadata": {
    "id": "XA5f_8eC4q6E"
   },
   "source": [
    "#### Возраст"
   ]
  },
  {
   "cell_type": "code",
   "execution_count": 17,
   "metadata": {
    "id": "JsNL26mGt4e6",
    "pycharm": {
     "name": "#%%\n"
    }
   },
   "outputs": [
    {
     "data": {
      "application/vnd.jupyter.widget-view+json": {
       "model_id": "adc0f27e15ee4537a34e7f0038cffc37",
       "version_major": 2,
       "version_minor": 0
      },
      "text/plain": [
       "  0%|          | 0/45 [00:00<?, ?it/s]"
      ]
     },
     "metadata": {},
     "output_type": "display_data"
    },
    {
     "data": {
      "text/plain": [
       "({'learning_rate': np.float64(0.25075), 'depth': 7, 'min_data_in_leaf': 1},\n",
       " np.float64(0.7351086194814296))"
      ]
     },
     "execution_count": 17,
     "metadata": {},
     "output_type": "execute_result"
    }
   ],
   "source": [
    "best_params, best_score = get_best_params(y_age_train, y_age_eval)\n",
    "best_params, best_score"
   ]
  },
  {
   "cell_type": "code",
   "execution_count": 18,
   "metadata": {
    "id": "qSeUpxPj4q6E"
   },
   "outputs": [
    {
     "name": "stdout",
     "output_type": "stream",
     "text": [
      "Accuracy: 0.7238335435056746\n",
      "Most important features:\n",
      "1. ovsyanochan\n",
      "2. leprum\n",
      "3. mudakoff\n",
      "4. dayvinchik\n",
      "5. 4ch\n",
      "6. styd.pozor\n",
      "7. rhymes\n",
      "8. bestad\n",
      "9. fuck_humor\n",
      "10. rapnewrap\n"
     ]
    }
   ],
   "source": [
    "cb_model = CatBoostClassifier(\n",
    "    iterations=100,\n",
    "    depth=7,\n",
    "    learning_rate=np.float64(0.25075),\n",
    "    min_data_in_leaf=1,\n",
    "    loss_function='MultiClass',\n",
    "    verbose=False\n",
    ")\n",
    "cb_model.fit(X_train, y_age_train)\n",
    "y_pred = cb_model.predict(X_test)\n",
    "\n",
    "print(\"Accuracy:\", accuracy_score(y_age_test, y_pred))\n",
    "print(\"Most important features:\")\n",
    "for i, name in enumerate(most_important_features(cb_model.feature_importances_, features, 10)):\n",
    "    print(str(i + 1) + \".\", name)"
   ]
  },
  {
   "cell_type": "markdown",
   "metadata": {
    "id": "KfYSptm74q6E"
   },
   "source": [
    "#### Пол"
   ]
  },
  {
   "cell_type": "code",
   "execution_count": 19,
   "metadata": {
    "id": "xHaQ3k6lt4e7",
    "pycharm": {
     "name": "#%%\n"
    }
   },
   "outputs": [
    {
     "data": {
      "application/vnd.jupyter.widget-view+json": {
       "model_id": "b98b6d836659436caf23ef9444cab2a8",
       "version_major": 2,
       "version_minor": 0
      },
      "text/plain": [
       "  0%|          | 0/45 [00:00<?, ?it/s]"
      ]
     },
     "metadata": {},
     "output_type": "display_data"
    },
    {
     "data": {
      "text/plain": [
       "({'learning_rate': np.float64(0.75025), 'depth': 4, 'min_data_in_leaf': 1},\n",
       " np.float64(0.8682550805886475))"
      ]
     },
     "execution_count": 19,
     "metadata": {},
     "output_type": "execute_result"
    }
   ],
   "source": [
    "best_params, best_score = get_best_params(y_sex_train, y_sex_eval)\n",
    "best_params, best_score"
   ]
  },
  {
   "cell_type": "code",
   "execution_count": 20,
   "metadata": {
    "id": "4rKa-f6F4q6E",
    "pycharm": {
     "name": "#%%\n"
    }
   },
   "outputs": [
    {
     "name": "stdout",
     "output_type": "stream",
     "text": [
      "Accuracy: 0.8511979823455234\n",
      "Most important features:\n",
      "1. 40kg\n",
      "2. mudakoff\n",
      "3. modnailru\n",
      "4. girlmeme\n",
      "5. zerofat\n",
      "6. thesmolny\n",
      "7. i_d_t\n",
      "8. igm\n",
      "9. femalemem\n",
      "10. be.beauty\n"
     ]
    }
   ],
   "source": [
    "cb_model = CatBoostClassifier(\n",
    "    iterations=100,\n",
    "    depth=4,\n",
    "    learning_rate=np.float64(0.75025),\n",
    "    min_data_in_leaf=1,\n",
    "    loss_function='MultiClass',\n",
    "    verbose=False\n",
    ")\n",
    "cb_model.fit(X_train, y_sex_train)\n",
    "y_pred = cb_model.predict(X_test)\n",
    "\n",
    "print(\"Accuracy:\", accuracy_score(y_sex_test, y_pred))\n",
    "print(\"Most important features:\")\n",
    "for i, name in enumerate(most_important_features(cb_model.feature_importances_, features, 10)):\n",
    "    print(str(i + 1) + \".\", name)"
   ]
  },
  {
   "cell_type": "code",
   "execution_count": null,
   "metadata": {},
   "outputs": [],
   "source": []
  }
 ],
 "metadata": {
  "colab": {
   "provenance": []
  },
  "kernelspec": {
   "display_name": "python3.11 ml spbu",
   "language": "python",
   "name": "myenv"
  },
  "language_info": {
   "codemirror_mode": {
    "name": "ipython",
    "version": 3
   },
   "file_extension": ".py",
   "mimetype": "text/x-python",
   "name": "python",
   "nbconvert_exporter": "python",
   "pygments_lexer": "ipython3",
   "version": "3.11.11"
  }
 },
 "nbformat": 4,
 "nbformat_minor": 4
}
